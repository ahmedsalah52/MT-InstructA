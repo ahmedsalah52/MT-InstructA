{
 "cells": [
  {
   "cell_type": "code",
   "execution_count": 4,
   "metadata": {},
   "outputs": [
    {
     "name": "stdout",
     "output_type": "stream",
     "text": [
      "tensor(-1.7923, device='cuda:0') tensor(-1.4802, device='cuda:0')\n",
      "torch.Size([1, 512]) torch.Size([3, 512])\n",
      "Label probs: [[0.7686  0.06018 0.1714 ]]\n"
     ]
    }
   ],
   "source": [
    "import torch\n",
    "import clip\n",
    "from PIL import Image\n",
    "import numpy as np\n",
    "\n",
    "\n",
    "device = \"cuda\" if torch.cuda.is_available() else \"cpu\"\n",
    "model, preprocess = clip.load(\"ViT-B/16\", device=device)\n",
    "\n",
    "image = preprocess(Image.fromarray(np.uint8(np.zeros((224, 224, 3))))).unsqueeze(0).to(device)\n",
    "text = clip.tokenize([\"a diagram\", \"a dog\", \"darkness\"]).to(device)\n",
    "print(image.min(),image.max())\n",
    "with torch.no_grad():\n",
    "    image_features = model.encode_image(image)\n",
    "    text_features = model.encode_text(text)\n",
    "    print(image_features.shape, text_features.shape)\n",
    "    logits_per_image, logits_per_text = model(image, text)\n",
    "    probs = logits_per_image.softmax(dim=-1).cpu().numpy()\n",
    "\n",
    "print(\"Label probs:\", probs)  # prints: [[0.9927937  0.00421068 0.00299572]]"
   ]
  },
  {
   "cell_type": "code",
   "execution_count": 5,
   "metadata": {},
   "outputs": [
    {
     "data": {
      "text/plain": [
       "['RN50',\n",
       " 'RN101',\n",
       " 'RN50x4',\n",
       " 'RN50x16',\n",
       " 'RN50x64',\n",
       " 'ViT-B/32',\n",
       " 'ViT-B/16',\n",
       " 'ViT-L/14',\n",
       " 'ViT-L/14@336px']"
      ]
     },
     "execution_count": 5,
     "metadata": {},
     "output_type": "execute_result"
    }
   ],
   "source": [
    "clip.available_models()"
   ]
  },
  {
   "cell_type": "code",
   "execution_count": 7,
   "metadata": {},
   "outputs": [
    {
     "name": "stderr",
     "output_type": "stream",
     "text": [
      " 92%|███████████████████████████████████▉   | 371M/402M [02:24<00:08, 3.82MiB/s]"
     ]
    },
    {
     "ename": "",
     "evalue": "",
     "output_type": "error",
     "traceback": [
      "\u001b[1;31mThe Kernel crashed while executing code in the the current cell or a previous cell. Please review the code in the cell(s) to identify a possible cause of the failure. Click <a href='https://aka.ms/vscodeJupyterKernelCrash'>here</a> for more info. View Jupyter <a href='command:jupyter.viewOutput'>log</a> for further details."
     ]
    }
   ],
   "source": [
    "model, preprocess = clip.load(\"RN50x4\", device=device)\n",
    "preprocess"
   ]
  },
  {
   "cell_type": "code",
   "execution_count": 31,
   "metadata": {},
   "outputs": [],
   "source": [
    "import torch\n",
    "import torch.nn.functional as F\n",
    "import torch.nn as nn\n",
    "\n",
    "class CrossAttentionTransformer(nn.Module):\n",
    "    def __init__(self, q_dim,cross_attention_dim,embed_dim, num_heads=1):\n",
    "        super(CrossAttentionTransformer, self).__init__()\n",
    "\n",
    "        self.num_heads = num_heads\n",
    "        self.head_dim = embed_dim \n",
    "        total_embed_dim = num_heads * embed_dim\n",
    "        # Linear transformations for queries, keys, and values\n",
    "        self.query_linear = nn.Linear(q_dim, total_embed_dim)\n",
    "        self.key_linear = nn.Linear(cross_attention_dim, total_embed_dim)\n",
    "        self.value_linear = nn.Linear(cross_attention_dim, total_embed_dim)\n",
    "\n",
    "        # Output linear layer\n",
    "        self.out_linear = nn.Linear(total_embed_dim,cross_attention_dim)\n",
    "\n",
    "    def forward(self, vector1, vector2):\n",
    "        batch_size, len_vector1, _ = vector1.size()\n",
    "        _, len_vector2, _ = vector2.size()\n",
    "\n",
    "        # Linear transformations\n",
    "        query = self.query_linear(vector1)\n",
    "        key   = self.key_linear(vector2)\n",
    "        value = self.value_linear(vector2)\n",
    "\n",
    "        # Reshape for multi-head attention\n",
    "        query = query.view(batch_size, len_vector1, self.num_heads, self.head_dim).transpose(1, 2)\n",
    "        key   =   key.view(batch_size, len_vector2, self.num_heads, self.head_dim).transpose(1, 2)\n",
    "        value = value.view(batch_size, len_vector2, self.num_heads, self.head_dim).transpose(1, 2)\n",
    "\n",
    "        # Compute attention scores\n",
    "        scores = torch.matmul(query, key.transpose(-2, -1)) / (self.head_dim ** 0.5)\n",
    "\n",
    "        # Apply softmax to get attention weights\n",
    "        attention_weights = F.softmax(scores, dim=-1)\n",
    "\n",
    "        # Apply attention weights to values\n",
    "        attended_values = torch.matmul(attention_weights, value)\n",
    "\n",
    "        # Reshape and concatenate heads\n",
    "        attended_values = attended_values.transpose(1, 2).contiguous().view(batch_size, len_vector1, -1)\n",
    "\n",
    "        # Apply output linear layer\n",
    "        output = self.out_linear(attended_values)\n",
    "\n",
    "        return vector1+output\n"
   ]
  },
  {
   "cell_type": "code",
   "execution_count": 33,
   "metadata": {},
   "outputs": [
    {
     "name": "stdout",
     "output_type": "stream",
     "text": [
      "torch.Size([2, 320, 8])\n"
     ]
    }
   ],
   "source": [
    "\n",
    "# Example usage\n",
    "batch_size = 2\n",
    "sequence_length = 5*(512//8)\n",
    "emp = 8\n",
    "heads = 16\n",
    "embed_dim = 8 \n",
    "\n",
    "\n",
    "images_emps = torch.rand((2, sequence_length, emp))  # Batch size of 2, sequence length of 10, embedding dimension of 512\n",
    "text_emp    = torch.rand((2, 64, emp))               # Batch size of 2, sequence length of 8, embedding dimension of 512\n",
    "\n",
    "model = CrossAttentionTransformer(q_dim=emp, cross_attention_dim=emp,embed_dim=embed_dim, num_heads=heads)\n",
    "output = model(images_emps, text_emp)\n",
    "print(output.shape)  # Output shape: torch.Size([2, 10, 512])\n"
   ]
  },
  {
   "cell_type": "code",
   "execution_count": 34,
   "metadata": {},
   "outputs": [],
   "source": [
    "import torch\n",
    "import torch.nn.functional as F\n",
    "import torch.nn as nn\n",
    "\n",
    "class CrossAttentionTransformerMultiLayer(nn.Module):\n",
    "    def __init__(self, num_layers,q_dim,cross_attention_dim,embed_dim, num_heads=1):\n",
    "        super(CrossAttentionTransformerMultiLayer, self).__init__()\n",
    "\n",
    "        self.layers = nn.ModuleList([\n",
    "            CrossAttentionTransformer(q_dim=q_dim, cross_attention_dim=cross_attention_dim,embed_dim=embed_dim, num_heads=num_heads) for _ in range(num_layers)\n",
    "        ])\n",
    "\n",
    "    def forward(self, vectors1, vector2):\n",
    "        for layer in self.layers:\n",
    "            vectors1 = layer(vectors1, vector2)\n",
    "        return vectors1\n"
   ]
  },
  {
   "cell_type": "code",
   "execution_count": 35,
   "metadata": {},
   "outputs": [
    {
     "name": "stdout",
     "output_type": "stream",
     "text": [
      "torch.Size([2, 320, 8])\n"
     ]
    }
   ],
   "source": [
    "# Example usage\n",
    "batch_size = 2\n",
    "sequence_length = 5*(512//8)\n",
    "emp = 8\n",
    "heads = 16\n",
    "embed_dim = 8 \n",
    "layers = 2\n",
    "\n",
    "images_emps = torch.rand((2, sequence_length, emp))  # Batch size of 2, sequence length of 10, embedding dimension of 512\n",
    "text_emp    = torch.rand((2, 64, emp))               # Batch size of 2, sequence length of 8, embedding dimension of 512\n",
    "\n",
    "model = CrossAttentionTransformerMultiLayer(num_layers=layers,q_dim=emp, cross_attention_dim=emp,embed_dim=embed_dim, num_heads=heads)\n",
    "output = model(images_emps, text_emp)\n",
    "print(output.shape)  # Output shape: torch.Size([2, 10, 512])"
   ]
  },
  {
   "cell_type": "code",
   "execution_count": null,
   "metadata": {},
   "outputs": [],
   "source": []
  }
 ],
 "metadata": {
  "kernelspec": {
   "display_name": "mujoco",
   "language": "python",
   "name": "python3"
  },
  "language_info": {
   "codemirror_mode": {
    "name": "ipython",
    "version": 3
   },
   "file_extension": ".py",
   "mimetype": "text/x-python",
   "name": "python",
   "nbconvert_exporter": "python",
   "pygments_lexer": "ipython3",
   "version": "3.9.17"
  },
  "orig_nbformat": 4
 },
 "nbformat": 4,
 "nbformat_minor": 2
}
