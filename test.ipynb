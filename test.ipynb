{
 "cells": [
  {
   "cell_type": "code",
   "execution_count": 1,
   "metadata": {},
   "outputs": [
    {
     "ename": "ModuleNotFoundError",
     "evalue": "No module named 'gym'",
     "output_type": "error",
     "traceback": [
      "\u001b[0;31m---------------------------------------------------------------------------\u001b[0m",
      "\u001b[0;31mModuleNotFoundError\u001b[0m                       Traceback (most recent call last)",
      "Cell \u001b[0;32mIn[1], line 1\u001b[0m\n\u001b[0;32m----> 1\u001b[0m \u001b[39mimport\u001b[39;00m \u001b[39mmetaworld\u001b[39;00m\n\u001b[1;32m      2\u001b[0m \u001b[39mimport\u001b[39;00m \u001b[39mrandom\u001b[39;00m\n\u001b[1;32m      3\u001b[0m \u001b[39mimport\u001b[39;00m \u001b[39mtime\u001b[39;00m\n",
      "File \u001b[0;32m/workspaces/Metaworld/metaworld/__init__.py:7\u001b[0m\n\u001b[1;32m      4\u001b[0m \u001b[39mfrom\u001b[39;00m \u001b[39mcollections\u001b[39;00m \u001b[39mimport\u001b[39;00m OrderedDict\n\u001b[1;32m      5\u001b[0m \u001b[39mfrom\u001b[39;00m \u001b[39mtyping\u001b[39;00m \u001b[39mimport\u001b[39;00m List, NamedTuple, Type\n\u001b[0;32m----> 7\u001b[0m \u001b[39mimport\u001b[39;00m \u001b[39mmetaworld\u001b[39;00m\u001b[39m.\u001b[39;00m\u001b[39menvs\u001b[39;00m\u001b[39m.\u001b[39;00m\u001b[39mmujoco\u001b[39;00m\u001b[39m.\u001b[39;00m\u001b[39menv_dict\u001b[39;00m \u001b[39mas\u001b[39;00m \u001b[39m_env_dict\u001b[39;00m\n\u001b[1;32m      8\u001b[0m \u001b[39mimport\u001b[39;00m \u001b[39mnumpy\u001b[39;00m \u001b[39mas\u001b[39;00m \u001b[39mnp\u001b[39;00m\n\u001b[1;32m     10\u001b[0m EnvName \u001b[39m=\u001b[39m \u001b[39mstr\u001b[39m\n",
      "File \u001b[0;32m/workspaces/Metaworld/metaworld/envs/__init__.py:1\u001b[0m\n\u001b[0;32m----> 1\u001b[0m \u001b[39mfrom\u001b[39;00m \u001b[39mmetaworld\u001b[39;00m\u001b[39m.\u001b[39;00m\u001b[39menvs\u001b[39;00m\u001b[39m.\u001b[39;00m\u001b[39mmujoco\u001b[39;00m\u001b[39m.\u001b[39;00m\u001b[39menv_dict\u001b[39;00m \u001b[39mimport\u001b[39;00m (ALL_V2_ENVIRONMENTS_GOAL_HIDDEN,\n\u001b[1;32m      2\u001b[0m                                             ALL_V2_ENVIRONMENTS_GOAL_OBSERVABLE\n\u001b[1;32m      3\u001b[0m                                             )\n\u001b[1;32m      5\u001b[0m __all__ \u001b[39m=\u001b[39m [\u001b[39m'\u001b[39m\u001b[39mALL_V2_ENVIRONMENTS_GOAL_HIDDEN\u001b[39m\u001b[39m'\u001b[39m,\n\u001b[1;32m      6\u001b[0m            \u001b[39m'\u001b[39m\u001b[39mALL_V2_ENVIRONMENTS_GOAL_OBSERVABLE\u001b[39m\u001b[39m'\u001b[39m]\n",
      "File \u001b[0;32m/workspaces/Metaworld/metaworld/envs/mujoco/env_dict.py:6\u001b[0m\n\u001b[1;32m      2\u001b[0m \u001b[39mimport\u001b[39;00m \u001b[39mre\u001b[39;00m\n\u001b[1;32m      4\u001b[0m \u001b[39mimport\u001b[39;00m \u001b[39mnumpy\u001b[39;00m \u001b[39mas\u001b[39;00m \u001b[39mnp\u001b[39;00m\n\u001b[0;32m----> 6\u001b[0m \u001b[39mfrom\u001b[39;00m \u001b[39mmetaworld\u001b[39;00m\u001b[39m.\u001b[39;00m\u001b[39menvs\u001b[39;00m\u001b[39m.\u001b[39;00m\u001b[39mmujoco\u001b[39;00m\u001b[39m.\u001b[39;00m\u001b[39msawyer_xyz\u001b[39;00m\u001b[39m.\u001b[39;00m\u001b[39mv1\u001b[39;00m \u001b[39mimport\u001b[39;00m (\n\u001b[1;32m      7\u001b[0m     SawyerNutAssemblyEnv,\n\u001b[1;32m      8\u001b[0m     SawyerBasketballEnv,\n\u001b[1;32m      9\u001b[0m     SawyerBinPickingEnv,\n\u001b[1;32m     10\u001b[0m     SawyerBoxCloseEnv,\n\u001b[1;32m     11\u001b[0m     SawyerButtonPressEnv,\n\u001b[1;32m     12\u001b[0m     SawyerButtonPressTopdownEnv,\n\u001b[1;32m     13\u001b[0m     SawyerButtonPressTopdownWallEnv,\n\u001b[1;32m     14\u001b[0m     SawyerButtonPressWallEnv,\n\u001b[1;32m     15\u001b[0m     SawyerCoffeeButtonEnv,\n\u001b[1;32m     16\u001b[0m     SawyerCoffeePullEnv,\n\u001b[1;32m     17\u001b[0m     SawyerCoffeePushEnv,\n\u001b[1;32m     18\u001b[0m     SawyerDialTurnEnv,\n\u001b[1;32m     19\u001b[0m     SawyerNutDisassembleEnv,\n\u001b[1;32m     20\u001b[0m     SawyerDoorEnv,\n\u001b[1;32m     21\u001b[0m     SawyerDoorCloseEnv,\n\u001b[1;32m     22\u001b[0m     SawyerDoorLockEnv,\n\u001b[1;32m     23\u001b[0m     SawyerDoorUnlockEnv,\n\u001b[1;32m     24\u001b[0m     SawyerDrawerCloseEnv,\n\u001b[1;32m     25\u001b[0m     SawyerDrawerOpenEnv,\n\u001b[1;32m     26\u001b[0m     SawyerFaucetCloseEnv,\n\u001b[1;32m     27\u001b[0m     SawyerFaucetOpenEnv,\n\u001b[1;32m     28\u001b[0m     SawyerHammerEnv,\n\u001b[1;32m     29\u001b[0m     SawyerHandInsertEnv,\n\u001b[1;32m     30\u001b[0m     SawyerHandlePressEnv,\n\u001b[1;32m     31\u001b[0m     SawyerHandlePressSideEnv,\n\u001b[1;32m     32\u001b[0m     SawyerHandlePullEnv,\n\u001b[1;32m     33\u001b[0m     SawyerHandlePullSideEnv,\n\u001b[1;32m     34\u001b[0m     SawyerLeverPullEnv,\n\u001b[1;32m     35\u001b[0m     SawyerPegInsertionSideEnv,\n\u001b[1;32m     36\u001b[0m     SawyerPegUnplugSideEnv,\n\u001b[1;32m     37\u001b[0m     SawyerPickOutOfHoleEnv,\n\u001b[1;32m     38\u001b[0m     SawyerPlateSlideEnv,\n\u001b[1;32m     39\u001b[0m     SawyerPlateSlideBackEnv,\n\u001b[1;32m     40\u001b[0m     SawyerPlateSlideBackSideEnv,\n\u001b[1;32m     41\u001b[0m     SawyerPlateSlideSideEnv,\n\u001b[1;32m     42\u001b[0m     SawyerPushBackEnv,\n\u001b[1;32m     43\u001b[0m     SawyerReachPushPickPlaceEnv,\n\u001b[1;32m     44\u001b[0m     SawyerReachPushPickPlaceWallEnv,\n\u001b[1;32m     45\u001b[0m     SawyerShelfPlaceEnv,\n\u001b[1;32m     46\u001b[0m     SawyerSoccerEnv,\n\u001b[1;32m     47\u001b[0m     SawyerStickPullEnv,\n\u001b[1;32m     48\u001b[0m     SawyerStickPushEnv,\n\u001b[1;32m     49\u001b[0m     SawyerSweepEnv,\n\u001b[1;32m     50\u001b[0m     SawyerSweepIntoGoalEnv,\n\u001b[1;32m     51\u001b[0m     SawyerWindowCloseEnv,\n\u001b[1;32m     52\u001b[0m     SawyerWindowOpenEnv,\n\u001b[1;32m     53\u001b[0m )\n\u001b[1;32m     54\u001b[0m \u001b[39mfrom\u001b[39;00m \u001b[39mmetaworld\u001b[39;00m\u001b[39m.\u001b[39;00m\u001b[39menvs\u001b[39;00m\u001b[39m.\u001b[39;00m\u001b[39mmujoco\u001b[39;00m\u001b[39m.\u001b[39;00m\u001b[39msawyer_xyz\u001b[39;00m\u001b[39m.\u001b[39;00m\u001b[39mv2\u001b[39;00m \u001b[39mimport\u001b[39;00m (\n\u001b[1;32m     55\u001b[0m     SawyerNutAssemblyEnvV2,\n\u001b[1;32m     56\u001b[0m     SawyerBasketballEnvV2,\n\u001b[0;32m   (...)\u001b[0m\n\u001b[1;32m    104\u001b[0m     SawyerWindowOpenEnvV2,\n\u001b[1;32m    105\u001b[0m )\n\u001b[1;32m    108\u001b[0m ALL_V1_ENVIRONMENTS \u001b[39m=\u001b[39m OrderedDict((\n\u001b[1;32m    109\u001b[0m     (\u001b[39m'\u001b[39m\u001b[39mreach-v1\u001b[39m\u001b[39m'\u001b[39m, SawyerReachPushPickPlaceEnv),\n\u001b[1;32m    110\u001b[0m     (\u001b[39m'\u001b[39m\u001b[39mpush-v1\u001b[39m\u001b[39m'\u001b[39m, SawyerReachPushPickPlaceEnv),\n\u001b[0;32m   (...)\u001b[0m\n\u001b[1;32m    158\u001b[0m     (\u001b[39m'\u001b[39m\u001b[39mdoor-unlock-v1\u001b[39m\u001b[39m'\u001b[39m, SawyerDoorUnlockEnv),\n\u001b[1;32m    159\u001b[0m ))\n",
      "File \u001b[0;32m/workspaces/Metaworld/metaworld/envs/mujoco/sawyer_xyz/v1/__init__.py:1\u001b[0m\n\u001b[0;32m----> 1\u001b[0m \u001b[39mfrom\u001b[39;00m \u001b[39mmetaworld\u001b[39;00m\u001b[39m.\u001b[39;00m\u001b[39menvs\u001b[39;00m\u001b[39m.\u001b[39;00m\u001b[39mmujoco\u001b[39;00m\u001b[39m.\u001b[39;00m\u001b[39msawyer_xyz\u001b[39;00m\u001b[39m.\u001b[39;00m\u001b[39mv1\u001b[39;00m\u001b[39m.\u001b[39;00m\u001b[39msawyer_assembly_peg\u001b[39;00m \u001b[39mimport\u001b[39;00m SawyerNutAssemblyEnv\n\u001b[1;32m      2\u001b[0m \u001b[39mfrom\u001b[39;00m \u001b[39mmetaworld\u001b[39;00m\u001b[39m.\u001b[39;00m\u001b[39menvs\u001b[39;00m\u001b[39m.\u001b[39;00m\u001b[39mmujoco\u001b[39;00m\u001b[39m.\u001b[39;00m\u001b[39msawyer_xyz\u001b[39;00m\u001b[39m.\u001b[39;00m\u001b[39mv1\u001b[39;00m\u001b[39m.\u001b[39;00m\u001b[39msawyer_basketball\u001b[39;00m \u001b[39mimport\u001b[39;00m SawyerBasketballEnv\n\u001b[1;32m      3\u001b[0m \u001b[39mfrom\u001b[39;00m \u001b[39mmetaworld\u001b[39;00m\u001b[39m.\u001b[39;00m\u001b[39menvs\u001b[39;00m\u001b[39m.\u001b[39;00m\u001b[39mmujoco\u001b[39;00m\u001b[39m.\u001b[39;00m\u001b[39msawyer_xyz\u001b[39;00m\u001b[39m.\u001b[39;00m\u001b[39mv1\u001b[39;00m\u001b[39m.\u001b[39;00m\u001b[39msawyer_bin_picking\u001b[39;00m \u001b[39mimport\u001b[39;00m SawyerBinPickingEnv\n",
      "File \u001b[0;32m/workspaces/Metaworld/metaworld/envs/mujoco/sawyer_xyz/v1/sawyer_assembly_peg.py:2\u001b[0m\n\u001b[1;32m      1\u001b[0m \u001b[39mimport\u001b[39;00m \u001b[39mnumpy\u001b[39;00m \u001b[39mas\u001b[39;00m \u001b[39mnp\u001b[39;00m\n\u001b[0;32m----> 2\u001b[0m \u001b[39mfrom\u001b[39;00m \u001b[39mgym\u001b[39;00m\u001b[39m.\u001b[39;00m\u001b[39mspaces\u001b[39;00m \u001b[39mimport\u001b[39;00m Box\n\u001b[1;32m      4\u001b[0m \u001b[39mfrom\u001b[39;00m \u001b[39mmetaworld\u001b[39;00m\u001b[39m.\u001b[39;00m\u001b[39menvs\u001b[39;00m\u001b[39m.\u001b[39;00m\u001b[39masset_path_utils\u001b[39;00m \u001b[39mimport\u001b[39;00m full_v1_path_for\n\u001b[1;32m      5\u001b[0m \u001b[39mfrom\u001b[39;00m \u001b[39mmetaworld\u001b[39;00m\u001b[39m.\u001b[39;00m\u001b[39menvs\u001b[39;00m\u001b[39m.\u001b[39;00m\u001b[39mmujoco\u001b[39;00m\u001b[39m.\u001b[39;00m\u001b[39msawyer_xyz\u001b[39;00m\u001b[39m.\u001b[39;00m\u001b[39msawyer_xyz_env\u001b[39;00m \u001b[39mimport\u001b[39;00m SawyerXYZEnv, _assert_task_is_set\n",
      "\u001b[0;31mModuleNotFoundError\u001b[0m: No module named 'gym'"
     ]
    }
   ],
   "source": [
    "import metaworld\n",
    "import random\n",
    "import time\n",
    "print(metaworld.ML1.ENV_NAMES)  # Check out the available environments\n",
    "\n",
    "ml1 = metaworld.ML1('basketball-v2') # Construct the benchmark, sampling tasks\n",
    "\n",
    "env = ml1.train_classes['basketball-v2']()  # Create an environment with task `pick_place`\n",
    "task = random.choice(ml1.train_tasks)\n",
    "env.set_task(task)  # Set task\n",
    "\n",
    "\n",
    "obs = env.reset()  # Reset environment\n",
    "for i in range(100):\n",
    "    a = env.action_space.sample()  # Sample an action\n",
    "    obs, reward, done, info = env.step(a)  # Step the environoment with the sampled random action\n",
    "    env.render(camera_name='behindGripper') #'corner3, corner, corner2, topview, gripperPOV, behindGripper'\n",
    "    time.sleep(1/10)\n",
    "env.close()"
   ]
  },
  {
   "cell_type": "code",
   "execution_count": 2,
   "metadata": {},
   "outputs": [
    {
     "data": {
      "text/plain": [
       "FullArgSpec(args=['self', 'offscreen', 'camera_name', 'resolution'], varargs=None, varkw=None, defaults=(False, 'corner2', (640, 480)), kwonlyargs=[], kwonlydefaults=None, annotations={})"
      ]
     },
     "execution_count": 2,
     "metadata": {},
     "output_type": "execute_result"
    }
   ],
   "source": [
    "import inspect \n",
    "inspect.getfullargspec(env.render)"
   ]
  },
  {
   "cell_type": "code",
   "execution_count": 5,
   "metadata": {},
   "outputs": [
    {
     "data": {
      "text/plain": [
       "array([[[188, 187, 187],\n",
       "        [216, 216, 216],\n",
       "        [222, 222, 222],\n",
       "        ...,\n",
       "        [235, 236, 235],\n",
       "        [228, 228, 228],\n",
       "        [200, 200, 200]],\n",
       "\n",
       "       [[188, 188, 187],\n",
       "        [216, 216, 216],\n",
       "        [223, 223, 223],\n",
       "        ...,\n",
       "        [237, 237, 237],\n",
       "        [230, 230, 230],\n",
       "        [200, 200, 200]],\n",
       "\n",
       "       [[188, 188, 188],\n",
       "        [215, 215, 215],\n",
       "        [221, 221, 221],\n",
       "        ...,\n",
       "        [236, 236, 236],\n",
       "        [230, 230, 228],\n",
       "        [198, 198, 198]],\n",
       "\n",
       "       ...,\n",
       "\n",
       "       [[158, 157, 157],\n",
       "        [183, 183, 182],\n",
       "        [189, 190, 189],\n",
       "        ...,\n",
       "        [218, 219, 219],\n",
       "        [212, 214, 214],\n",
       "        [184, 183, 183]],\n",
       "\n",
       "       [[160, 159, 159],\n",
       "        [185, 185, 184],\n",
       "        [191, 191, 190],\n",
       "        ...,\n",
       "        [218, 219, 218],\n",
       "        [215, 215, 215],\n",
       "        [188, 188, 188]],\n",
       "\n",
       "       [[160, 159, 159],\n",
       "        [184, 184, 184],\n",
       "        [190, 190, 190],\n",
       "        ...,\n",
       "        [218, 218, 218],\n",
       "        [214, 215, 214],\n",
       "        [188, 188, 188]]], dtype=uint8)"
      ]
     },
     "execution_count": 5,
     "metadata": {},
     "output_type": "execute_result"
    }
   ],
   "source": [
    "args=['self', 'offscreen', 'camera_name', 'resolution']\n",
    "env.render(camera_name='topview',)"
   ]
  },
  {
   "cell_type": "code",
   "execution_count": 6,
   "metadata": {},
   "outputs": [
    {
     "ename": "TypeError",
     "evalue": "render() got an unexpected keyword argument 'mode'",
     "output_type": "error",
     "traceback": [
      "\u001b[0;31m---------------------------------------------------------------------------\u001b[0m",
      "\u001b[0;31mTypeError\u001b[0m                                 Traceback (most recent call last)",
      "Cell \u001b[0;32mIn[6], line 1\u001b[0m\n\u001b[0;32m----> 1\u001b[0m env\u001b[39m.\u001b[39;49mrender(mode\u001b[39m=\u001b[39;49m\u001b[39m'\u001b[39;49m\u001b[39mhuman\u001b[39;49m\u001b[39m'\u001b[39;49m)\n",
      "\u001b[0;31mTypeError\u001b[0m: render() got an unexpected keyword argument 'mode'"
     ]
    }
   ],
   "source": [
    "env.render(mode='human')"
   ]
  },
  {
   "cell_type": "code",
   "execution_count": null,
   "metadata": {},
   "outputs": [],
   "source": []
  }
 ],
 "metadata": {
  "kernelspec": {
   "display_name": "Python 3",
   "language": "python",
   "name": "python3"
  },
  "language_info": {
   "codemirror_mode": {
    "name": "ipython",
    "version": 3
   },
   "file_extension": ".py",
   "mimetype": "text/x-python",
   "name": "python",
   "nbconvert_exporter": "python",
   "pygments_lexer": "ipython3",
   "version": "3.8.10"
  },
  "orig_nbformat": 4
 },
 "nbformat": 4,
 "nbformat_minor": 2
}
